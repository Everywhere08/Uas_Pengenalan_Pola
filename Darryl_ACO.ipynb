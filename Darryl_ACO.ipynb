{
 "cells": [
  {
   "cell_type": "code",
   "execution_count": 1,
   "id": "8bef91ba",
   "metadata": {
    "scrolled": false
   },
   "outputs": [],
   "source": [
    "from sklearn.model_selection import train_test_split\n",
    "from sklearn.preprocessing import StandardScaler\n",
    "from sklearn.metrics import accuracy_score\n",
    "from tensorflow.keras.models import Sequential\n",
    "from tensorflow.keras.layers import Dense, Conv1D, MaxPooling1D, Flatten\n",
    "import optuna\n",
    "import numpy as np\n",
    "import matplotlib.pyplot as plt\n",
    "import pandas as pd\n",
    "import seaborn as sn\n",
    "from sklearn.metrics import confusion_matrix, classification_report"
   ]
  },
  {
   "cell_type": "code",
   "execution_count": 2,
   "id": "f69968fc",
   "metadata": {},
   "outputs": [],
   "source": [
    "ESR = pd.read_csv('C:/Users/darry/Downloads/invut/Epileptic Seizure Recognition.csv')\n"
   ]
  },
  {
   "cell_type": "code",
   "execution_count": 3,
   "id": "891bf180",
   "metadata": {},
   "outputs": [],
   "source": [
    "# Binary classification: 0 for non-seizure, 1 for seizure\n",
    "y = (ESR.iloc[:, 179].values > 1).astype(int)\n",
    "X = ESR.iloc[:, 1:179].values"
   ]
  },
  {
   "cell_type": "code",
   "execution_count": 4,
   "id": "f4d8fcd5",
   "metadata": {},
   "outputs": [],
   "source": [
    "# Split the data into training and testing sets\n",
    "X_train, X_test, y_train, y_test = train_test_split(X, y, test_size=0.2, random_state=42)\n"
   ]
  },
  {
   "cell_type": "code",
   "execution_count": 5,
   "id": "c13ffc79",
   "metadata": {},
   "outputs": [],
   "source": [
    "# Standardize the data\n",
    "sc = StandardScaler()\n",
    "X_train = sc.fit_transform(X_train)\n",
    "X_test = sc.transform(X_test)\n",
    "\n",
    "# Reshape the data for 1D CNN\n",
    "X_train = X_train.reshape(X_train.shape[0], X_train.shape[1], 1)\n",
    "X_test = X_test.reshape(X_test.shape[0], X_test.shape[1], 1)"
   ]
  },
  {
   "cell_type": "code",
   "execution_count": 6,
   "id": "80e243ed",
   "metadata": {},
   "outputs": [],
   "source": [
    "# Define hyperparameter space\n",
    "filter_sizes = [16, 32, 64]\n",
    "kernel_sizes = [3, 4, 5]\n",
    "pool_sizes = [2, 3]\n",
    "dense_units = [8, 16, 32]\n",
    "\n",
    "# Ant Colony Optimization\n",
    "n_ants = 5\n",
    "n_iterations = 10\n",
    "\n",
    "best_params = None\n",
    "best_accuracy = 0.0"
   ]
  },
  {
   "cell_type": "code",
   "execution_count": 7,
   "id": "4f5d7781",
   "metadata": {},
   "outputs": [],
   "source": [
    "for _ in range(n_iterations):\n",
    "    for ant in range(n_ants):\n",
    "        # Randomly initialize parameters\n",
    "        n_filters = np.random.choice(filter_sizes)\n",
    "        kernel_size = int(np.random.choice(kernel_sizes, size=1)[0])\n",
    "        pool_size = int(np.random.choice(pool_sizes, size=1)[0])\n",
    "        dense_unit = np.random.choice(dense_units)\n",
    "\n",
    "        # Build the model\n",
    "        model = Sequential()\n",
    "        model.add(Conv1D(n_filters, kernel_size=kernel_size, activation='relu', input_shape=(X_train.shape[1], 1)))\n",
    "        model.add(MaxPooling1D(pool_size=pool_size))\n",
    "        model.add(Flatten())\n",
    "        model.add(Dense(dense_unit, activation='relu'))\n",
    "        model.add(Dense(1, activation='sigmoid'))\n",
    "\n",
    "        # Compile the model\n",
    "        model.compile(optimizer='adam', loss='binary_crossentropy', metrics=['accuracy'])\n",
    "\n",
    "        # Train the model\n",
    "        model.fit(X_train, y_train, epochs=5, batch_size=32, verbose=0)\n",
    "\n",
    "        # Evaluate the model on the validation set\n",
    "        _, accuracy = model.evaluate(X_test, y_test, verbose=0)\n",
    "\n",
    "        # Update best parameters if necessary\n",
    "        if accuracy > best_accuracy:\n",
    "            best_accuracy = accuracy\n",
    "            best_params = {'n_filters': n_filters, 'kernel_size': kernel_size, 'pool_size': pool_size, 'dense_unit': dense_unit}"
   ]
  },
  {
   "cell_type": "code",
   "execution_count": 8,
   "id": "d008eaef",
   "metadata": {},
   "outputs": [],
   "source": [
    "# Build the final model with the best hyperparameters\n",
    "final_model = Sequential()\n",
    "final_model.add(Conv1D(best_params['n_filters'], kernel_size=best_params['kernel_size'], activation='relu', input_shape=(X_train.shape[1], 1)))\n",
    "final_model.add(MaxPooling1D(pool_size=best_params['pool_size']))\n",
    "final_model.add(Flatten())\n",
    "final_model.add(Dense(best_params['dense_unit'], activation='relu'))\n",
    "final_model.add(Dense(1, activation='sigmoid'))"
   ]
  },
  {
   "cell_type": "code",
   "execution_count": 9,
   "id": "73db2afc",
   "metadata": {},
   "outputs": [],
   "source": [
    "# Compile the final model\n",
    "final_model.compile(optimizer='adam', loss='binary_crossentropy', metrics=['accuracy'])"
   ]
  },
  {
   "cell_type": "code",
   "execution_count": 10,
   "id": "5f438121",
   "metadata": {},
   "outputs": [
    {
     "name": "stdout",
     "output_type": "stream",
     "text": [
      "Epoch 1/10\n",
      "288/288 [==============================] - 3s 8ms/step - loss: 0.1856 - accuracy: 0.9279 - val_loss: 0.0880 - val_accuracy: 0.9613\n",
      "Epoch 2/10\n",
      "288/288 [==============================] - 2s 8ms/step - loss: 0.0916 - accuracy: 0.9646 - val_loss: 0.0755 - val_accuracy: 0.9691\n",
      "Epoch 3/10\n",
      "288/288 [==============================] - 2s 7ms/step - loss: 0.0713 - accuracy: 0.9724 - val_loss: 0.0770 - val_accuracy: 0.9683\n",
      "Epoch 4/10\n",
      "288/288 [==============================] - 2s 7ms/step - loss: 0.0594 - accuracy: 0.9779 - val_loss: 0.0601 - val_accuracy: 0.9783\n",
      "Epoch 5/10\n",
      "288/288 [==============================] - 2s 8ms/step - loss: 0.0482 - accuracy: 0.9812 - val_loss: 0.0587 - val_accuracy: 0.9796\n",
      "Epoch 6/10\n",
      "288/288 [==============================] - 2s 8ms/step - loss: 0.0413 - accuracy: 0.9853 - val_loss: 0.0650 - val_accuracy: 0.9774\n",
      "Epoch 7/10\n",
      "288/288 [==============================] - 2s 8ms/step - loss: 0.0371 - accuracy: 0.9872 - val_loss: 0.0625 - val_accuracy: 0.9761\n",
      "Epoch 8/10\n",
      "288/288 [==============================] - 2s 8ms/step - loss: 0.0319 - accuracy: 0.9896 - val_loss: 0.0617 - val_accuracy: 0.9774\n",
      "Epoch 9/10\n",
      "288/288 [==============================] - 2s 8ms/step - loss: 0.0278 - accuracy: 0.9909 - val_loss: 0.0845 - val_accuracy: 0.9761\n",
      "Epoch 10/10\n",
      "288/288 [==============================] - 2s 8ms/step - loss: 0.0250 - accuracy: 0.9927 - val_loss: 0.0656 - val_accuracy: 0.9796\n"
     ]
    },
    {
     "data": {
      "text/plain": [
       "<keras.callbacks.History at 0x181d5af2680>"
      ]
     },
     "execution_count": 10,
     "metadata": {},
     "output_type": "execute_result"
    }
   ],
   "source": [
    "# Train the final model\n",
    "final_model.fit(X_train, y_train, epochs=10, batch_size=32, validation_data=(X_test, y_test))"
   ]
  },
  {
   "cell_type": "code",
   "execution_count": 11,
   "id": "f62311c2",
   "metadata": {},
   "outputs": [
    {
     "name": "stdout",
     "output_type": "stream",
     "text": [
      "72/72 [==============================] - 0s 4ms/step - loss: 0.0656 - accuracy: 0.9796\n",
      "Test Accuracy with Optimal Hyperparameters: 0.9795652031898499\n",
      "Best Hyperparameters: {'n_filters': 64, 'kernel_size': 4, 'pool_size': 2, 'dense_unit': 32}\n"
     ]
    }
   ],
   "source": [
    "# Evaluate the final model\n",
    "_, accuracy_final = final_model.evaluate(X_test, y_test)\n",
    "print('Test Accuracy with Optimal Hyperparameters:', accuracy_final)\n",
    "print('Best Hyperparameters:', best_params)"
   ]
  },
  {
   "cell_type": "code",
   "execution_count": 14,
   "id": "1a646243",
   "metadata": {},
   "outputs": [
    {
     "name": "stdout",
     "output_type": "stream",
     "text": [
      "72/72 [==============================] - 0s 3ms/step\n",
      "Confusion Matrix:\n",
      "[[ 441   24]\n",
      " [  23 1812]]\n",
      "\n",
      "Classification Report:\n",
      "              precision    recall  f1-score   support\n",
      "\n",
      "           0       0.95      0.95      0.95       465\n",
      "           1       0.99      0.99      0.99      1835\n",
      "\n",
      "    accuracy                           0.98      2300\n",
      "   macro avg       0.97      0.97      0.97      2300\n",
      "weighted avg       0.98      0.98      0.98      2300\n",
      "\n",
      "\n",
      "Test Accuracy with Optimal Hyperparameters: 0.9795652173913043\n",
      "Best Hyperparameters: {'n_filters': 64, 'kernel_size': 4, 'pool_size': 2, 'dense_unit': 32}\n"
     ]
    },
    {
     "data": {
      "image/png": "[encoded data removed]",
      "text/plain": [
       "<Figure size 432x432 with 1 Axes>"
      ]
     },
     "metadata": {
      "needs_background": "light"
     },
     "output_type": "display_data"
    }
   ],
   "source": [
    "y_pred = final_model.predict(X_test)\n",
    "y_pred_classes = (y_pred > 0.5).astype(int)  # Convert probabilities to binary classes\n",
    "\n",
    "# Calculate confusion matrix\n",
    "conf_mat = confusion_matrix(y_test, y_pred_classes)\n",
    "\n",
    "# Display confusion matrix\n",
    "print(\"Confusion Matrix:\")\n",
    "print(conf_mat)\n",
    "\n",
    "# Display classification report\n",
    "print(\"\\nClassification Report:\")\n",
    "print(classification_report(y_test, y_pred_classes))\n",
    "\n",
    "# Display additional metrics\n",
    "accuracy_final = accuracy_score(y_test, y_pred_classes)\n",
    "print('\\nTest Accuracy with Optimal Hyperparameters:', accuracy_final)\n",
    "print('Best Hyperparameters:', best_params)\n",
    "\n",
    "# Display confusion matrix as a heatmap\n",
    "plt.figure(figsize=(6, 6))\n",
    "sn.heatmap(conf_mat, annot=True, fmt=\"d\", cmap=\"Blues\", cbar=False, square=True)\n",
    "plt.xlabel('Predicted')\n",
    "plt.ylabel('Actual')\n",
    "plt.title('Confusion Matrix')\n",
    "plt.show()"
   ]
  },
  {
   "cell_type": "code",
   "execution_count": null,
   "id": "b226813a",
   "metadata": {},
   "outputs": [],
   "source": []
  }
 ],
 "metadata": {
  "kernelspec": {
   "display_name": "Python 3 (ipykernel)",
   "language": "python",
   "name": "python3"
  },
  "language_info": {
   "codemirror_mode": {
    "name": "ipython",
    "version": 3
   },
   "file_extension": ".py",
   "mimetype": "text/x-python",
   "name": "python",
   "nbconvert_exporter": "python",
   "pygments_lexer": "ipython3",
   "version": "3.10.5"
  }
 },
 "nbformat": 4,
 "nbformat_minor": 5
}
